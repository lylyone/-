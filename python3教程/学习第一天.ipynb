{
 "cells": [
  {
   "cell_type": "markdown",
   "metadata": {},
   "source": [
    "# 基础学习在菜鸟教程上，\n",
    "#1网址：https://www.runoob.com/python3/python3-tutorial.html\n",
    "话不多说，开始进入python3的学习"
   ]
  },
  {
   "cell_type": "markdown",
   "metadata": {},
   "source": [
    "# Python3 基础语法"
   ]
  },
  {
   "cell_type": "markdown",
   "metadata": {},
   "source": [
    "# 1标识符\n",
    "#1第一个字符必须是字母表中字母或下划线 _ 。\n",
    "#2标识符的其他的部分由字母、数字和下划线组成。\n",
    "#3标识符对大小写敏感。"
   ]
  },
  {
   "cell_type": "code",
   "execution_count": 1,
   "metadata": {
    "collapsed": true
   },
   "outputs": [
    {
     "data": {
      "text/plain": [
       "['False',\n",
       " 'None',\n",
       " 'True',\n",
       " 'and',\n",
       " 'as',\n",
       " 'assert',\n",
       " 'break',\n",
       " 'class',\n",
       " 'continue',\n",
       " 'def',\n",
       " 'del',\n",
       " 'elif',\n",
       " 'else',\n",
       " 'except',\n",
       " 'finally',\n",
       " 'for',\n",
       " 'from',\n",
       " 'global',\n",
       " 'if',\n",
       " 'import',\n",
       " 'in',\n",
       " 'is',\n",
       " 'lambda',\n",
       " 'nonlocal',\n",
       " 'not',\n",
       " 'or',\n",
       " 'pass',\n",
       " 'raise',\n",
       " 'return',\n",
       " 'try',\n",
       " 'while',\n",
       " 'with',\n",
       " 'yield']"
      ]
     },
     "execution_count": 1,
     "metadata": {},
     "output_type": "execute_result"
    }
   ],
   "source": [
    "#python保留字：即关键字\n",
    "import keyword\n",
    "keyword.kwlist"
   ]
  },
  {
   "cell_type": "markdown",
   "metadata": {},
   "source": [
    "# 注释\n",
    "在公司学习中发现，注释的快捷键时ctr+/"
   ]
  },
  {
   "cell_type": "code",
   "execution_count": 5,
   "metadata": {},
   "outputs": [],
   "source": [
    "# 我的注释\n",
    "# Python 通常是一行写完一条语句，但如果语句很长，我们可以使用反斜杠(\\)来实现多行语句，例如：\n",
    "total='one'+\\\n",
    "'two'+'three'"
   ]
  },
  {
   "cell_type": "code",
   "execution_count": 6,
   "metadata": {},
   "outputs": [
    {
     "data": {
      "text/plain": [
       "'onetwothree'"
      ]
     },
     "execution_count": 6,
     "metadata": {},
     "output_type": "execute_result"
    }
   ],
   "source": [
    "total"
   ]
  },
  {
   "cell_type": "markdown",
   "metadata": {},
   "source": [
    "# 数字类型"
   ]
  },
  {
   "cell_type": "markdown",
   "metadata": {},
   "source": [
    "python中数字有四种类型：整数、布尔型、浮点数和复数。\n",
    "\n",
    "#1 int (整数), 如 1, 只有一种整数类型 int，表示为长整型，没有 python2 中的 Long。\n",
    "#2 bool (布尔), 如 True。\n",
    "#3 float (浮点数), 如 1.23、3E-2\n",
    "#4 complex (复数), 如 1 + 2j、 1.1 + 2.2j\n"
   ]
  },
  {
   "cell_type": "markdown",
   "metadata": {},
   "source": [
    "# 字符串"
   ]
  },
  {
   "cell_type": "markdown",
   "metadata": {},
   "source": [
    "#1 python中单引号和双引号使用完全相同。\n",
    "#2使用三引号('''或\"\"\")可以指定一个多行字符串。\n",
    "#3 转义符 '\\'\n",
    "#4 反斜杠可以用来转义，使用r可以让反斜杠不发生转义。。 如 r\"this is a line with \\n\" 则\\n会显示，并不是换行。\n",
    "#5 按字面意义级联字符串，如\"this \" \"is \" \"string\"会被自动转换为this is string。\n",
    "#6 字符串可以用 + 运算符连接在一起，用 * 运算符重复。\n",
    "#7 Python 中的字符串有两种索引方式，从左往右以 0 开始，从右往左以 -1 开始。\n",
    "#8 Python中的字符串不能改变。\n",
    "#9 Python 没有单独的字符类型，一个字符就是长度为 1 的字符串。\n",
    "#10 字符串的截取的语法格式如下：变量[头下标:尾下标:步长]"
   ]
  },
  {
   "cell_type": "code",
   "execution_count": 7,
   "metadata": {},
   "outputs": [
    {
     "data": {
      "text/plain": [
       "'我是字符'"
      ]
     },
     "execution_count": 7,
     "metadata": {},
     "output_type": "execute_result"
    }
   ],
   "source": [
    "word='我是字符'\n",
    "word"
   ]
  },
  {
   "cell_type": "code",
   "execution_count": 13,
   "metadata": {},
   "outputs": [
    {
     "name": "stdout",
     "output_type": "stream",
     "text": [
      "runoobrunoob\n",
      "\n",
      "\n",
      "noob\n",
      "\n",
      "\n",
      "hello\n",
      "runoob\n",
      "hello\\nrunoob\n"
     ]
    }
   ],
   "source": [
    "#实例\n",
    "str='runoob'\n",
    "print(str*2)\n",
    "print('\\n')#空格\n",
    "print(str[2:])#切片操作\n",
    "print('\\n')\n",
    "print('hello\\nrunoob')      # 使用反斜杠(\\)+n转义特殊字符\n",
    "print(r'hello\\nrunoob')     # 在字符串前面添加一个 r，表示原始字符串，不会发生转义"
   ]
  },
  {
   "cell_type": "markdown",
   "metadata": {},
   "source": [
    "# 输入"
   ]
  },
  {
   "cell_type": "code",
   "execution_count": 14,
   "metadata": {},
   "outputs": [
    {
     "name": "stdout",
     "output_type": "stream",
     "text": [
      "请输出数字：2\n"
     ]
    },
    {
     "data": {
      "text/plain": [
       "'2'"
      ]
     },
     "execution_count": 14,
     "metadata": {},
     "output_type": "execute_result"
    }
   ],
   "source": [
    "input('请输出数字：')"
   ]
  },
  {
   "cell_type": "code",
   "execution_count": 15,
   "metadata": {},
   "outputs": [
    {
     "name": "stdout",
     "output_type": "stream",
     "text": [
      "请输入数字：3\n",
      "输出数字\n",
      "3\n"
     ]
    }
   ],
   "source": [
    "a=input('请输入数字：')\n",
    "print('输出数字')\n",
    "print(a)"
   ]
  },
  {
   "cell_type": "markdown",
   "metadata": {},
   "source": [
    "import 与 from...import"
   ]
  },
  {
   "cell_type": "markdown",
   "metadata": {},
   "source": [
    "#1 在 python 用 import 或者 from...import 来导入相应的模块。\n",
    "\n",
    "#2 将整个模块(somemodule)导入，格式为： import somemodule\n",
    "\n",
    "#3 从某个模块中导入某个函数,格式为： from somemodule import somefunction\n",
    "\n",
    "#4 从某个模块中导入多个函数,格式为： from somemodule import firstfunc, secondfunc, thirdfunc\n",
    "\n",
    "#5 将某个模块中的全部函数导入，格式为： from somemodule import *"
   ]
  },
  {
   "cell_type": "code",
   "execution_count": 16,
   "metadata": {},
   "outputs": [
    {
     "name": "stdout",
     "output_type": "stream",
     "text": [
      "命令行参数为\n",
      "D:\\Datalearn\\lib\\site-packages\\ipykernel_launcher.py\n",
      "-f\n",
      "C:\\Users\\ASUS\\AppData\\Roaming\\jupyter\\runtime\\kernel-758e0b28-95bf-42bb-a19c-c0b22bcf6be4.json\n"
     ]
    }
   ],
   "source": [
    "import sys\n",
    "print('命令行参数为')\n",
    "for i in sys.argv:\n",
    "    print(i)"
   ]
  },
  {
   "cell_type": "markdown",
   "metadata": {},
   "source": [
    "# python3 基本数据类型"
   ]
  },
  {
   "cell_type": "code",
   "execution_count": 18,
   "metadata": {},
   "outputs": [],
   "source": [
    "#多个变量赋值\n",
    "a=b=c=1\n",
    "a,b,c=1,2,3"
   ]
  },
  {
   "cell_type": "markdown",
   "metadata": {},
   "source": [
    "标准数据类型"
   ]
  },
  {
   "cell_type": "markdown",
   "metadata": {},
   "source": [
    "不可变数据（3 个）：Number（数字）、String（字符串）、Tuple（元组）；\n",
    "可变数据（3 个）：List（列表）、Dictionary（字典）、Set（集合）"
   ]
  },
  {
   "cell_type": "markdown",
   "metadata": {},
   "source": [
    "# List（列表）\n",
    "#1 列表可以完成大多数集合类的数据结构实现。\n",
    "列表中元素的类型可以不相同，它支持数字，字符串甚至可以包含列表（所谓嵌套）。\n",
    "#2 List 内置了有很多方法，例如 append()、pop() 等等，这在后面会讲到。"
   ]
  },
  {
   "cell_type": "code",
   "execution_count": 25,
   "metadata": {},
   "outputs": [
    {
     "data": {
      "text/plain": [
       "['i', 'live', 'hao']"
      ]
     },
     "execution_count": 25,
     "metadata": {},
     "output_type": "execute_result"
    }
   ],
   "source": [
    "l='i live hao'\n",
    "# 通过空格将字符串分隔符，把各个单词分隔为列表\n",
    "l.split(' ')"
   ]
  },
  {
   "cell_type": "code",
   "execution_count": 26,
   "metadata": {},
   "outputs": [
    {
     "data": {
      "text/plain": [
       "['i live hao']"
      ]
     },
     "execution_count": 26,
     "metadata": {},
     "output_type": "execute_result"
    }
   ],
   "source": [
    "l.split(',')"
   ]
  },
  {
   "cell_type": "markdown",
   "metadata": {},
   "source": [
    "# Tuple（元组）\n"
   ]
  },
  {
   "cell_type": "markdown",
   "metadata": {},
   "source": [
    "#1元组（tuple）与列表类似，不同之处在于元组的元素不能修改。\n",
    "#2 元组写在小括号 () 里，元素之间用逗号隔开。\n",
    "\n",
    "元组中的元素类型也可以不相同："
   ]
  },
  {
   "cell_type": "code",
   "execution_count": 29,
   "metadata": {},
   "outputs": [
    {
     "data": {
      "text/plain": [
       "(1, 2, 3, '44')"
      ]
     },
     "execution_count": 29,
     "metadata": {},
     "output_type": "execute_result"
    }
   ],
   "source": [
    "tuple=(1,2,3,'44')\n",
    "tuple"
   ]
  },
  {
   "cell_type": "code",
   "execution_count": 30,
   "metadata": {},
   "outputs": [
    {
     "data": {
      "text/plain": [
       "1"
      ]
     },
     "execution_count": 30,
     "metadata": {},
     "output_type": "execute_result"
    }
   ],
   "source": [
    "tuple[0]"
   ]
  },
  {
   "cell_type": "code",
   "execution_count": 31,
   "metadata": {},
   "outputs": [
    {
     "data": {
      "text/plain": [
       "2"
      ]
     },
     "execution_count": 31,
     "metadata": {},
     "output_type": "execute_result"
    }
   ],
   "source": [
    "tuple[0]*2"
   ]
  },
  {
   "cell_type": "code",
   "execution_count": 32,
   "metadata": {},
   "outputs": [
    {
     "data": {
      "text/plain": [
       "(1, 2, 3, '44', 1, 2, 3, '44')"
      ]
     },
     "execution_count": 32,
     "metadata": {},
     "output_type": "execute_result"
    }
   ],
   "source": [
    "tuple*2"
   ]
  },
  {
   "cell_type": "code",
   "execution_count": 34,
   "metadata": {},
   "outputs": [
    {
     "data": {
      "text/plain": [
       "()"
      ]
     },
     "execution_count": 34,
     "metadata": {},
     "output_type": "execute_result"
    }
   ],
   "source": [
    "tuple=() # 空元组\n",
    "tuple"
   ]
  },
  {
   "cell_type": "code",
   "execution_count": 36,
   "metadata": {},
   "outputs": [
    {
     "data": {
      "text/plain": [
       "1"
      ]
     },
     "execution_count": 36,
     "metadata": {},
     "output_type": "execute_result"
    }
   ],
   "source": [
    "tuple=(1)\n",
    "tuple"
   ]
  },
  {
   "cell_type": "code",
   "execution_count": 41,
   "metadata": {},
   "outputs": [
    {
     "data": {
      "text/plain": [
       "(1,)"
      ]
     },
     "execution_count": 41,
     "metadata": {},
     "output_type": "execute_result"
    }
   ],
   "source": [
    "tuple=(1,)# 一个元素，需要在元素后添加逗号\n",
    "tuple"
   ]
  },
  {
   "cell_type": "code",
   "execution_count": 42,
   "metadata": {},
   "outputs": [
    {
     "data": {
      "text/plain": [
       "'qwqwqwq'"
      ]
     },
     "execution_count": 42,
     "metadata": {},
     "output_type": "execute_result"
    }
   ],
   "source": [
    "a=\"qwqwqwq\"\n",
    "a"
   ]
  },
  {
   "cell_type": "code",
   "execution_count": null,
   "metadata": {},
   "outputs": [],
   "source": []
  },
  {
   "cell_type": "code",
   "execution_count": 43,
   "metadata": {},
   "outputs": [
    {
     "data": {
      "text/plain": [
       "'q'"
      ]
     },
     "execution_count": 43,
     "metadata": {},
     "output_type": "execute_result"
    }
   ],
   "source": [
    "a[0]"
   ]
  },
  {
   "cell_type": "code",
   "execution_count": 45,
   "metadata": {},
   "outputs": [
    {
     "ename": "TypeError",
     "evalue": "'str' object does not support item assignment",
     "output_type": "error",
     "traceback": [
      "\u001b[1;31m---------------------------------------------------------------------------\u001b[0m",
      "\u001b[1;31mTypeError\u001b[0m                                 Traceback (most recent call last)",
      "\u001b[1;32m<ipython-input-45-54ad41af185d>\u001b[0m in \u001b[0;36m<module>\u001b[1;34m()\u001b[0m\n\u001b[0;32m      1\u001b[0m \u001b[1;31m#与字符串一样，元组的元素不能修改。\u001b[0m\u001b[1;33m\u001b[0m\u001b[1;33m\u001b[0m\u001b[0m\n\u001b[1;32m----> 2\u001b[1;33m \u001b[0ma\u001b[0m\u001b[1;33m[\u001b[0m\u001b[1;36m0\u001b[0m\u001b[1;33m]\u001b[0m\u001b[1;33m=\u001b[0m\u001b[1;34m'r'\u001b[0m\u001b[1;33m\u001b[0m\u001b[0m\n\u001b[0m",
      "\u001b[1;31mTypeError\u001b[0m: 'str' object does not support item assignment"
     ]
    }
   ],
   "source": [
    "#与字符串一样，元组的元素不能修改。\n",
    "a[0]='r'"
   ]
  },
  {
   "cell_type": "markdown",
   "metadata": {},
   "source": [
    "# Set（集合）"
   ]
  },
  {
   "cell_type": "markdown",
   "metadata": {},
   "source": [
    "#1 集合（set）是由一个或数个形态各异的大小整体组成的，构成集合的事物或对象称作元素或是成员。\n",
    "\n",
    "基本功能是进行成员关系测试和删除重复元素。"
   ]
  },
  {
   "cell_type": "code",
   "execution_count": 47,
   "metadata": {},
   "outputs": [
    {
     "data": {
      "text/plain": [
       "{'jin', 'tom', 'tom ', 'tpm'}"
      ]
     },
     "execution_count": 47,
     "metadata": {},
     "output_type": "execute_result"
    }
   ],
   "source": [
    "student={'tom ','jin','tpm','tom'}\n",
    "student"
   ]
  },
  {
   "cell_type": "code",
   "execution_count": 48,
   "metadata": {},
   "outputs": [
    {
     "name": "stdout",
     "output_type": "stream",
     "text": [
      "rose不在集合中\n"
     ]
    }
   ],
   "source": [
    "if 'rose' in student:\n",
    "    print('rose 在集合')\n",
    "else:\n",
    "    print('rose不在集合中')"
   ]
  },
  {
   "cell_type": "markdown",
   "metadata": {},
   "source": [
    "# Dictionary（字典）"
   ]
  },
  {
   "cell_type": "markdown",
   "metadata": {},
   "source": [
    "#1 字典（dictionary）是Python中另一个非常有用的内置数据类型。\n",
    "\n",
    "#2 列表是有序的对象集合，字典是无序的对象集合。两者之间的区别在于：字典当中的元素是通过键来存取的，而不是通过偏移存取。\n",
    "\n",
    "#3 字典是一种映射类型，字典用 { } 标识，它是一个无序的 键(key) : 值(value) 的集合。\n",
    "\n",
    "#4 键(key)必须使用不可变类型。\n",
    "\n",
    "#5 在同一个字典中，键(key)必须是唯一的。"
   ]
  },
  {
   "cell_type": "code",
   "execution_count": 49,
   "metadata": {},
   "outputs": [],
   "source": [
    "dit={}\n",
    "dit['one']='菜鸟教程'\n",
    "dit[2]='工具'\n"
   ]
  },
  {
   "cell_type": "code",
   "execution_count": 50,
   "metadata": {},
   "outputs": [
    {
     "name": "stdout",
     "output_type": "stream",
     "text": [
      "dict_keys(['name', 'code', 'site'])\n"
     ]
    }
   ],
   "source": [
    "tinydict={ 'name':'runoob','code':1,'site':'ww.runoob.com'}\n",
    "print(tinydict.keys())"
   ]
  },
  {
   "cell_type": "code",
   "execution_count": 51,
   "metadata": {},
   "outputs": [
    {
     "name": "stdout",
     "output_type": "stream",
     "text": [
      "dict_values(['runoob', 1, 'ww.runoob.com'])\n"
     ]
    }
   ],
   "source": [
    "print(tinydict.values())"
   ]
  },
  {
   "cell_type": "code",
   "execution_count": 52,
   "metadata": {},
   "outputs": [
    {
     "data": {
      "text/plain": [
       "{'Runoob': 1, 'Google': 2, 'Taobao': 3}"
      ]
     },
     "execution_count": 52,
     "metadata": {},
     "output_type": "execute_result"
    }
   ],
   "source": [
    "dict([('Runoob', 1), ('Google', 2), ('Taobao', 3)])"
   ]
  },
  {
   "cell_type": "code",
   "execution_count": 54,
   "metadata": {},
   "outputs": [
    {
     "data": {
      "text/plain": [
       "{4, 16, 36}"
      ]
     },
     "execution_count": 54,
     "metadata": {},
     "output_type": "execute_result"
    }
   ],
   "source": [
    "{x**2 for x in (2,4,6)}"
   ]
  },
  {
   "cell_type": "markdown",
   "metadata": {},
   "source": [
    "# Python数据类型转换"
   ]
  },
  {
   "cell_type": "markdown",
   "metadata": {},
   "source": [
    "有时候，我们需要对数据内置的类型进行转换，数据类型的转换，你只需要将数据类型作为函数名即可。\n",
    "\n",
    "以下几个内置的函数可以执行数据类型之间的转换。这些函数返回一个新的对象，表示转换的值。"
   ]
  },
  {
   "cell_type": "markdown",
   "metadata": {},
   "source": [
    "\n",
    "函数\t描述\n",
    "int(x [,base])\n",
    "\n",
    "将x转换为一个整数\n",
    "\n",
    "float(x)\n",
    "\n",
    "将x转换到一个浮点数\n",
    "\n",
    "complex(real [,imag])\n",
    "\n",
    "创建一个复数\n",
    "\n",
    "str(x)\n",
    "\n",
    "将对象 x 转换为字符串\n",
    "\n",
    "repr(x)\n",
    "\n",
    "将对象 x 转换为表达式字符串\n",
    "\n",
    "eval(str)\n",
    "\n",
    "用来计算在字符串中的有效Python表达式,并返回一个对象\n",
    "\n",
    "tuple(s)\n",
    "\n",
    "将序列 s 转换为一个元组\n",
    "\n",
    "list(s)\n",
    "\n",
    "将序列 s 转换为一个列表\n",
    "\n",
    "set(s)\n",
    "\n",
    "转换为可变集合\n",
    "\n",
    "dict(d)\n",
    "\n",
    "创建一个字典。d 必须是一个 (key, value)元组序列。\n",
    "\n",
    "frozenset(s)\n",
    "\n",
    "转换为不可变集合\n",
    "\n",
    "chr(x)\n",
    "\n",
    "将一个整数转换为一个字符\n",
    "\n",
    "ord(x)\n",
    "\n",
    "将一个字符转换为它的整数值\n",
    "\n",
    "hex(x)\n",
    "\n",
    "将一个整数转换为一个十六进制字符串\n",
    "\n",
    "oct(x)\n",
    "\n",
    "将一个整数转换为一个八进制字符串\n",
    "\n",
    "len(x)\n",
    "求字符串"
   ]
  },
  {
   "cell_type": "code",
   "execution_count": 55,
   "metadata": {},
   "outputs": [
    {
     "data": {
      "text/plain": [
       "4"
      ]
     },
     "execution_count": 55,
     "metadata": {},
     "output_type": "execute_result"
    }
   ],
   "source": [
    "len('long')"
   ]
  },
  {
   "cell_type": "markdown",
   "metadata": {},
   "source": [
    "# Python3 运算符"
   ]
  },
  {
   "cell_type": "markdown",
   "metadata": {},
   "source": [
    "运算符\t描述\t实例\n",
    "=\t简单的赋值运算符\tc = a + b 将 a + b 的运算结果赋值为 c\n",
    "+=\t加法赋值运算符\tc += a 等效于 c = c + a\n",
    "-=\t减法赋值运算符\tc -= a 等效于 c = c - a\n",
    "*=\t乘法赋值运算符\tc *= a 等效于 c = c * a\n",
    "/=\t除法赋值运算符\tc /= a 等效于 c = c / a\n",
    "%=\t取模赋值运算符\tc %= a 等效于 c = c % a\n",
    "**=\t幂赋值运算符\tc **= a 等效于 c = c ** a\n",
    "//=\t取整除赋值运算符\tc //= a 等效于 c = c // a"
   ]
  },
  {
   "cell_type": "markdown",
   "metadata": {},
   "source": [
    "# Python位运算符"
   ]
  },
  {
   "cell_type": "markdown",
   "metadata": {},
   "source": [
    "运算符\t描述\t实例\n",
    "&\t按位与运算符：参与运算的两个值,如果两个相应位都为1,则该位的结果为1,否则为0\t(a & b) 输出结果 12 ，二进制解释： 0000 1100\n",
    "|\t按位或运算符：只要对应的二个二进位有一个为1时，结果位就为1。\t(a | b) 输出结果 61 ，二进制解释： 0011 1101\n",
    "^\t按位异或运算符：当两对应的二进位相异时，结果为1\t(a ^ b) 输出结果 49 ，二进制解释： 0011 0001\n",
    "~\t按位取反运算符：对数据的每个二进制位取反,即把1变为0,把0变为1。~x 类似于 -x-1\t(~a ) 输出结果 -61 ，二进制解释： 1100 0011， 在一个有符号二进制数的补码形式。\n",
    "<<\t左移动运算符：运算数的各二进位全部左移若干位，由\"<<\"右边的数指定移动的位数，高位丢弃，低位补0。\ta << 2 输出结果 240 ，二进制解释： 1111 0000\n",
    ">>\t右移动运算符：把\">>\"左边的运算数的各二进位全部右移若干位，\">>\"右边的数指定移动的位数\ta >> 2 输出结果 15 ，二进制解释： 0000 1111"
   ]
  },
  {
   "cell_type": "code",
   "execution_count": 56,
   "metadata": {},
   "outputs": [
    {
     "name": "stdout",
     "output_type": "stream",
     "text": [
      "1 - c 的值为： 12\n",
      "2 - c 的值为： 61\n",
      "3 - c 的值为： 49\n",
      "4 - c 的值为： -61\n",
      "5 - c 的值为： 240\n",
      "6 - c 的值为： 15\n"
     ]
    }
   ],
   "source": [
    "a = 60            # 60 = 0011 1100 \n",
    "b = 13            # 13 = 0000 1101 \n",
    "c = 0\n",
    " \n",
    "c = a & b;        # 12 = 0000 1100\n",
    "print (\"1 - c 的值为：\", c)\n",
    " \n",
    "c = a | b;        # 61 = 0011 1101 \n",
    "print (\"2 - c 的值为：\", c)\n",
    " \n",
    "c = a ^ b;        # 49 = 0011 0001\n",
    "print (\"3 - c 的值为：\", c)\n",
    " \n",
    "c = ~a;           # -61 = 1100 0011\n",
    "print (\"4 - c 的值为：\", c)\n",
    " \n",
    "c = a << 2;       # 240 = 1111 0000\n",
    "print (\"5 - c 的值为：\", c)\n",
    " \n",
    "c = a >> 2;       # 15 = 0000 1111\n",
    "print (\"6 - c 的值为：\", c)"
   ]
  },
  {
   "cell_type": "markdown",
   "metadata": {},
   "source": [
    "# Python逻辑运算符"
   ]
  },
  {
   "cell_type": "markdown",
   "metadata": {},
   "source": [
    "运算符\t逻辑表达式\t描述\t实例\n",
    "and\tx and y\t布尔\"与\" - 如果 x 为 False，x and y 返回 False，否则它返回 y 的计算值。\t(a and b) 返回 20。\n",
    "or\tx or y\t布尔\"或\" - 如果 x 是 True，它返回 x 的值，否则它返回 y 的计算值。\t(a or b) 返回 10。\n",
    "not\tnot x\t布尔\"非\" - 如果 x 为 True，返回 False 。如果 x 为 False，它返回 True。\tnot(a and b) 返回 False"
   ]
  },
  {
   "cell_type": "code",
   "execution_count": 57,
   "metadata": {},
   "outputs": [],
   "source": [
    "a=10\n",
    "b=20"
   ]
  },
  {
   "cell_type": "code",
   "execution_count": 58,
   "metadata": {},
   "outputs": [
    {
     "name": "stdout",
     "output_type": "stream",
     "text": [
      "10\n"
     ]
    }
   ],
   "source": [
    "if(a and b):\n",
    "    print(a)\n",
    "else:\n",
    "    print(b)"
   ]
  },
  {
   "cell_type": "code",
   "execution_count": 59,
   "metadata": {},
   "outputs": [
    {
     "name": "stdout",
     "output_type": "stream",
     "text": [
      "10\n"
     ]
    }
   ],
   "source": [
    "if(a or b):\n",
    "    print(a)\n",
    "else:\n",
    "    print(b)"
   ]
  },
  {
   "cell_type": "code",
   "execution_count": 60,
   "metadata": {},
   "outputs": [
    {
     "name": "stdout",
     "output_type": "stream",
     "text": [
      "20\n"
     ]
    }
   ],
   "source": [
    "if(not a):\n",
    "    print(a)\n",
    "else:\n",
    "    print(b)"
   ]
  },
  {
   "cell_type": "markdown",
   "metadata": {},
   "source": [
    "# Python成员运算符"
   ]
  },
  {
   "cell_type": "markdown",
   "metadata": {},
   "source": [
    "#运算符\t描述\t实例\n",
    "#in\t如果在指定的序列中找到值返回 True，否则返回 False。\tx 在 y 序列中 , 如果 x 在 y 序列中返回 True。\n",
    "#not in\t如果在指定的序列中没有找到值返回 True，否则返回 False。\tx 不在 y 序列中 , 如果 x 不在 y 序列中返回 True。"
   ]
  },
  {
   "cell_type": "code",
   "execution_count": 62,
   "metadata": {},
   "outputs": [
    {
     "name": "stdout",
     "output_type": "stream",
     "text": [
      "False\n"
     ]
    }
   ],
   "source": [
    "a=10\n",
    "b=20\n",
    "list=[1,2,3,4,5]\n",
    "print(a in list)"
   ]
  },
  {
   "cell_type": "markdown",
   "metadata": {},
   "source": [
    "# Python运算符优先级"
   ]
  },
  {
   "cell_type": "code",
   "execution_count": null,
   "metadata": {},
   "outputs": [],
   "source": [
    "运算符\t描述\n",
    "**\t指数 (最高优先级)\n",
    "~ + -\t按位翻转, 一元加号和减号 (最后两个的方法名为 +@ 和 -@)\n",
    "* / % //\t乘，除，取模和取整除\n",
    "+ -\t加法减法\n",
    ">> <<\t右移，左移运算符\n",
    "&\t位 'AND'\n",
    "^ |\t位运算符\n",
    "<= < > >=\t比较运算符\n",
    "<> == !=\t等于运算符\n",
    "= %= /= //= -= += *= **=\t赋值运算符\n",
    "is is not\t身份运算符\n",
    "in not in\t成员运算符\n",
    "not and or\t逻辑运算符"
   ]
  },
  {
   "cell_type": "markdown",
   "metadata": {},
   "source": [
    "# Python3 数字(Number)"
   ]
  },
  {
   "cell_type": "markdown",
   "metadata": {},
   "source": [
    "Python 数字数据类型用于存储数值。\n",
    "\n",
    "数据类型是不允许改变的,这就意味着如果改变数字数据类型的值，将重新分配内存空间。"
   ]
  },
  {
   "cell_type": "code",
   "execution_count": 63,
   "metadata": {},
   "outputs": [],
   "source": [
    "#1数学函数"
   ]
  },
  {
   "cell_type": "markdown",
   "metadata": {},
   "source": [
    "# 随机数函数\n",
    "#1 choice(seq)\t从序列的元素中随机挑选一个元素，比如random.choice(range(10))，从0到9中随机挑选一个整数。\n",
    "#2 randrange ([start,] stop [,step])\t从指定范围内，按指定基数递增的集合中获取一个随机数，基数默认值为 1\n",
    "#3 random()\t随机生成下一个实数，它在[0,1)范围内。\n",
    "#4 seed([x])\t改变随机数生成器的种子seed。如果你不了解其原理，你不必特别去设定seed，Python会帮你选择seed。\n",
    "#5 shuffle(lst)\t将序列的所有元素随机排序\n",
    "#6 uniform(x, y)\t随机生成下一个实数，它在[x,y]范围内。"
   ]
  },
  {
   "cell_type": "code",
   "execution_count": 70,
   "metadata": {},
   "outputs": [
    {
     "data": {
      "text/plain": [
       "0.863186420962893"
      ]
     },
     "execution_count": 70,
     "metadata": {},
     "output_type": "execute_result"
    }
   ],
   "source": [
    "import random\n",
    "#注意：random()是不能直接访问的，需要导入 random 模块，然后通过 random 静态对象调用该方法。\n",
    "random.random()"
   ]
  },
  {
   "cell_type": "code",
   "execution_count": 73,
   "metadata": {},
   "outputs": [
    {
     "data": {
      "text/plain": [
       "4"
      ]
     },
     "execution_count": 73,
     "metadata": {},
     "output_type": "execute_result"
    }
   ],
   "source": [
    "import random\n",
    "random.randrange(1,9,3)"
   ]
  },
  {
   "cell_type": "markdown",
   "metadata": {},
   "source": [
    "# Python3 字符串"
   ]
  },
  {
   "cell_type": "code",
   "execution_count": 74,
   "metadata": {},
   "outputs": [
    {
     "name": "stdout",
     "output_type": "stream",
     "text": [
      "我叫 小明 今年 10 岁!\n"
     ]
    }
   ],
   "source": [
    "#Python字符串格式化:最基本的用法是将一个值插入到一个有字符串格式符 %s 的字符串中。\n",
    "print (\"我叫 %s 今年 %d 岁!\" % ('小明', 10))\n"
   ]
  },
  {
   "cell_type": "code",
   "execution_count": 75,
   "metadata": {},
   "outputs": [
    {
     "data": {
      "text/plain": [
       "'world hello world'"
      ]
     },
     "execution_count": 75,
     "metadata": {},
     "output_type": "execute_result"
    }
   ],
   "source": [
    "#Python format 格式化函数\n",
    "\"{1} {0} {1}\".format(\"hello\", \"world\")  # 设置指定位置\n"
   ]
  },
  {
   "cell_type": "code",
   "execution_count": 77,
   "metadata": {},
   "outputs": [
    {
     "data": {
      "text/plain": [
       "'worldworld'"
      ]
     },
     "execution_count": 77,
     "metadata": {},
     "output_type": "execute_result"
    }
   ],
   "source": [
    "\"{1}{1}\".format(\"hello\", \"world\")  # 设置指定位置\n"
   ]
  },
  {
   "cell_type": "code",
   "execution_count": 78,
   "metadata": {},
   "outputs": [
    {
     "name": "stdout",
     "output_type": "stream",
     "text": [
      "3.14\n"
     ]
    }
   ],
   "source": [
    "print(\"{:.2f}\".format(3.1415926));"
   ]
  },
  {
   "cell_type": "markdown",
   "metadata": {},
   "source": [
    "# Python 的字符串内建函数\n"
   ]
  },
  {
   "cell_type": "markdown",
   "metadata": {},
   "source": [
    "\n",
    "序号\t方法及描述\n",
    "1\t\n",
    "capitalize()\n",
    "将字符串的第一个字符转换为大写\n",
    "\n",
    "2\t\n",
    "center(width, fillchar)\n",
    "\n",
    "\n",
    "返回一个指定的宽度 width 居中的字符串，fillchar 为填充的字符，默认为空格。\n",
    "3\t\n",
    "count(str, beg= 0,end=len(string))\n",
    "\n",
    "\n",
    "返回 str 在 string 里面出现的次数，如果 beg 或者 end 指定则返回指定范围内 str 出现的次数\n",
    "4\t\n",
    "bytes.decode(encoding=\"utf-8\", errors=\"strict\")\n",
    "\n",
    "\n",
    "Python3 中没有 decode 方法，但我们可以使用 bytes 对象的 decode() 方法来解码给定的 bytes 对象，这个 bytes 对象可以由 str.encode() 来编码返回。\n",
    "5\t\n",
    "encode(encoding='UTF-8',errors='strict')\n",
    "\n",
    "\n",
    "以 encoding 指定的编码格式编码字符串，如果出错默认报一个ValueError 的异常，除非 errors 指定的是'ignore'或者'replace'\n",
    "6\t\n",
    "endswith(suffix, beg=0, end=len(string))\n",
    "检查字符串是否以 obj 结束，如果beg 或者 end 指定则检查指定的范围内是否以 obj 结束，如果是，返回 True,否则返回 False.\n",
    "\n",
    "7\t\n",
    "expandtabs(tabsize=8)\n",
    "\n",
    "\n",
    "把字符串 string 中的 tab 符号转为空格，tab 符号默认的空格数是 8 。\n",
    "8\t\n",
    "find(str, beg=0, end=len(string))\n",
    "\n",
    "\n",
    "检测 str 是否包含在字符串中，如果指定范围 beg 和 end ，则检查是否包含在指定范围内，如果包含返回开始的索引值，否则返回-1\n",
    "9\t\n",
    "index(str, beg=0, end=len(string))\n",
    "\n",
    "\n",
    "跟find()方法一样，只不过如果str不在字符串中会报一个异常.\n",
    "10\t\n",
    "isalnum()\n",
    "\n",
    "\n",
    "如果字符串至少有一个字符并且所有字符都是字母或数字则返 回 True,否则返回 False\n",
    "11\t\n",
    "isalpha()\n",
    "\n",
    "\n",
    "如果字符串至少有一个字符并且所有字符都是字母则返回 True, 否则返回 False\n",
    "12\t\n",
    "isdigit()\n",
    "\n",
    "\n",
    "如果字符串只包含数字则返回 True 否则返回 False..\n",
    "13\t\n",
    "islower()\n",
    "\n",
    "\n",
    "如果字符串中包含至少一个区分大小写的字符，并且所有这些(区分大小写的)字符都是小写，则返回 True，否则返回 False\n",
    "14\t\n",
    "isnumeric()\n",
    "\n",
    "\n",
    "如果字符串中只包含数字字符，则返回 True，否则返回 False\n",
    "15\t\n",
    "isspace()\n",
    "\n",
    "\n",
    "如果字符串中只包含空白，则返回 True，否则返回 False.\n",
    "16\t\n",
    "istitle()\n",
    "\n",
    "\n",
    "如果字符串是标题化的(见 title())则返回 True，否则返回 False\n",
    "17\t\n",
    "isupper()\n",
    "\n",
    "\n",
    "如果字符串中包含至少一个区分大小写的字符，并且所有这些(区分大小写的)字符都是大写，则返回 True，否则返回 False\n",
    "18\t\n",
    "join(seq)\n",
    "\n",
    "\n",
    "以指定字符串作为分隔符，将 seq 中所有的元素(的字符串表示)合并为一个新的字符串\n",
    "19\t\n",
    "len(string)\n",
    "\n",
    "\n",
    "返回字符串长度\n",
    "20\t\n",
    "ljust(width[, fillchar])\n",
    "\n",
    "\n",
    "返回一个原字符串左对齐,并使用 fillchar 填充至长度 width 的新字符串，fillchar 默认为空格。\n",
    "21\t\n",
    "lower()\n",
    "\n",
    "\n",
    "转换字符串中所有大写字符为小写.\n",
    "22\t\n",
    "lstrip()\n",
    "\n",
    "\n",
    "截掉字符串左边的空格或指定字符。\n",
    "23\t\n",
    "maketrans()\n",
    "\n",
    "\n",
    "创建字符映射的转换表，对于接受两个参数的最简单的调用方式，第一个参数是字符串，表示需要转换的字符，第二个参数也是字符串表示转换的目标。\n",
    "24\t\n",
    "max(str)\n",
    "\n",
    "\n",
    "返回字符串 str 中最大的字母。\n",
    "25\t\n",
    "min(str)\n",
    "\n",
    "\n",
    "返回字符串 str 中最小的字母。\n",
    "26\t\n",
    "replace(old, new [, max])\n",
    "\n",
    "\n",
    "把 将字符串中的 str1 替换成 str2,如果 max 指定，则替换不超过 max 次。\n",
    "27\t\n",
    "rfind(str, beg=0,end=len(string))\n",
    "\n",
    "\n",
    "类似于 find()函数，不过是从右边开始查找.\n",
    "28\t\n",
    "rindex( str, beg=0, end=len(string))\n",
    "\n",
    "\n",
    "类似于 index()，不过是从右边开始.\n",
    "29\t\n",
    "rjust(width,[, fillchar])\n",
    "\n",
    "\n",
    "返回一个原字符串右对齐,并使用fillchar(默认空格）填充至长度 width 的新字符串\n",
    "30\t\n",
    "rstrip()\n",
    "\n",
    "\n",
    "删除字符串字符串末尾的空格.\n",
    "31\t\n",
    "split(str=\"\", num=string.count(str))\n",
    "\n",
    "\n",
    "num=string.count(str)) 以 str 为分隔符截取字符串，如果 num 有指定值，则仅截取 num+1 个子字符串\n",
    "32\t\n",
    "splitlines([keepends])\n",
    "\n",
    "\n",
    "按照行('\\r', '\\r\\n', \\n')分隔，返回一个包含各行作为元素的列表，如果参数 keepends 为 False，不包含换行符，如果为 True，则保留换行符。\n",
    "33\t\n",
    "startswith(substr, beg=0,end=len(string))\n",
    "\n",
    "\n",
    "检查字符串是否是以指定子字符串 substr 开头，是则返回 True，否则返回 False。如果beg 和 end 指定值，则在指定范围内检查。\n",
    "34\t\n",
    "strip([chars])\n",
    "\n",
    "\n",
    "在字符串上执行 lstrip()和 rstrip()\n",
    "35\t\n",
    "swapcase()\n",
    "\n",
    "\n",
    "将字符串中大写转换为小写，小写转换为大写\n",
    "36\t\n",
    "title()\n",
    "\n",
    "\n",
    "返回\"标题化\"的字符串,就是说所有单词都是以大写开始，其余字母均为小写(见 istitle())\n",
    "37\t\n",
    "translate(table, deletechars=\"\")\n",
    "\n",
    "\n",
    "根据 str 给出的表(包含 256 个字符)转换 string 的字符, 要过滤掉的字符放到 deletechars 参数中\n",
    "38\t\n",
    "upper()\n",
    "\n",
    "\n",
    "转换字符串中的小写字母为大写\n",
    "39\t\n",
    "zfill (width)\n",
    "\n",
    "\n",
    "返回长度为 width 的字符串，原字符串右对齐，前面填充0\n",
    "40\t\n",
    "isdecimal()\n",
    "\n",
    "\n",
    "检查字符串是否只包含十进制字符，如果是返回 true，否则返回 false。"
   ]
  },
  {
   "cell_type": "code",
   "execution_count": null,
   "metadata": {},
   "outputs": [],
   "source": []
  },
  {
   "cell_type": "code",
   "execution_count": null,
   "metadata": {},
   "outputs": [],
   "source": []
  },
  {
   "cell_type": "code",
   "execution_count": null,
   "metadata": {},
   "outputs": [],
   "source": []
  },
  {
   "cell_type": "code",
   "execution_count": null,
   "metadata": {},
   "outputs": [],
   "source": []
  },
  {
   "cell_type": "code",
   "execution_count": null,
   "metadata": {},
   "outputs": [],
   "source": []
  },
  {
   "cell_type": "code",
   "execution_count": null,
   "metadata": {},
   "outputs": [],
   "source": []
  },
  {
   "cell_type": "code",
   "execution_count": null,
   "metadata": {},
   "outputs": [],
   "source": []
  },
  {
   "cell_type": "code",
   "execution_count": null,
   "metadata": {},
   "outputs": [],
   "source": []
  },
  {
   "cell_type": "code",
   "execution_count": null,
   "metadata": {},
   "outputs": [],
   "source": []
  }
 ],
 "metadata": {
  "kernelspec": {
   "display_name": "Python 3",
   "language": "python",
   "name": "python3"
  },
  "language_info": {
   "codemirror_mode": {
    "name": "ipython",
    "version": 3
   },
   "file_extension": ".py",
   "mimetype": "text/x-python",
   "name": "python",
   "nbconvert_exporter": "python",
   "pygments_lexer": "ipython3",
   "version": "3.6.5"
  }
 },
 "nbformat": 4,
 "nbformat_minor": 2
}
